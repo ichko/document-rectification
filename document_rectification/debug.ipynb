{
 "cells": [
  {
   "cell_type": "code",
   "execution_count": null,
   "metadata": {},
   "outputs": [],
   "source": [
    "import matplotlib.pyplot as plt\n",
    "import numpy as np\n",
    "import seaborn as sns\n",
    "import torchvision\n",
    "from ez_torch.utils import count_parameters\n",
    "\n",
    "from document_rectification.common import logger"
   ]
  },
  {
   "cell_type": "code",
   "execution_count": null,
   "metadata": {},
   "outputs": [],
   "source": [
    "models_vars = vars(torchvision.models)\n",
    "model_name_size_map = {}\n",
    "\n",
    "for name, object in models_vars.items():\n",
    "    if callable(object):\n",
    "        try:\n",
    "            model = object()\n",
    "            model_name_size_map[name] = count_parameters(model)\n",
    "        except Exception as e:\n",
    "            logger.warn(e)\n",
    "\n",
    "model_names = np.array(list(model_name_size_map.keys()))\n",
    "model_sizes = np.array(list(model_name_size_map.values()))\n",
    "sort_index = model_sizes.argsort()"
   ]
  },
  {
   "cell_type": "code",
   "execution_count": null,
   "metadata": {},
   "outputs": [],
   "source": [
    "fig, ax = plt.subplots(figsize=(15, 5))\n",
    "sns.barplot(x=model_names[sort_index], y=model_sizes[sort_index], ax=ax)\n",
    "plt.xticks(rotation=70)\n",
    "# plt.show()\n",
    "plt.savefig('../assets/model_sizes_bar.png')"
   ]
  },
  {
   "cell_type": "code",
   "execution_count": null,
   "metadata": {},
   "outputs": [],
   "source": []
  },
  {
   "cell_type": "code",
   "execution_count": null,
   "metadata": {},
   "outputs": [],
   "source": []
  }
 ],
 "metadata": {
  "kernelspec": {
   "display_name": "pymedphys",
   "language": "python",
   "name": "pymedphys"
  },
  "language_info": {
   "codemirror_mode": {
    "name": "ipython",
    "version": 3
   },
   "file_extension": ".py",
   "mimetype": "text/x-python",
   "name": "python",
   "nbconvert_exporter": "python",
   "pygments_lexer": "ipython3",
   "version": "3.7.5"
  },
  "toc": {
   "base_numbering": 1,
   "nav_menu": {},
   "number_sections": true,
   "sideBar": true,
   "skip_h1_title": false,
   "title_cell": "Table of Contents",
   "title_sidebar": "Contents",
   "toc_cell": false,
   "toc_position": {},
   "toc_section_display": true,
   "toc_window_display": false
  }
 },
 "nbformat": 4,
 "nbformat_minor": 2
}
